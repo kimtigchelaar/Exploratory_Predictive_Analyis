{
 "cells": [
  {
   "cell_type": "markdown",
   "metadata": {},
   "source": [
    "## Question 1"
   ]
  },
  {
   "cell_type": "markdown",
   "metadata": {},
   "source": [
    "### Importing necessary modules"
   ]
  },
  {
   "cell_type": "code",
   "execution_count": 1,
   "metadata": {},
   "outputs": [
    {
     "name": "stderr",
     "output_type": "stream",
     "text": [
      "[nltk_data] Downloading package punkt to /Users/sijf/nltk_data...\n",
      "[nltk_data]   Package punkt is already up-to-date!\n",
      "[nltk_data] Downloading package stopwords to /Users/sijf/nltk_data...\n",
      "[nltk_data]   Package stopwords is already up-to-date!\n",
      "[nltk_data] Downloading package vader_lexicon to\n",
      "[nltk_data]     /Users/sijf/nltk_data...\n",
      "[nltk_data]   Package vader_lexicon is already up-to-date!\n"
     ]
    },
    {
     "data": {
      "text/plain": [
       "True"
      ]
     },
     "execution_count": 1,
     "metadata": {},
     "output_type": "execute_result"
    }
   ],
   "source": [
    "import nltk\n",
    "import os\n",
    "import numpy as np\n",
    "import pandas as pd\n",
    "import matplotlib.pyplot as plt\n",
    "from nltk.probability import FreqDist\n",
    "from nltk import word_tokenize\n",
    "import geopandas as gpd\n",
    "import matplotlib.pyplot as plt\n",
    "\n",
    "nltk.download('punkt')\n",
    "nltk.download('stopwords')\n",
    "nltk.download('vader_lexicon')"
   ]
  },
  {
   "cell_type": "markdown",
   "metadata": {},
   "source": [
    "### Importing Data"
   ]
  },
  {
   "cell_type": "code",
   "execution_count": 2,
   "metadata": {},
   "outputs": [],
   "source": [
    "sessions = np.arange(25, 76)\n",
    "data=[]\n",
    "\n",
    "for session in sessions:\n",
    "    directory = \"./TXT/Session \"+str(session)+\" - \"+str(1945+session)\n",
    "    # directory = f\"./TXT/Session {session} - {1945+session}\"\n",
    "    for filename in os.listdir(directory):\n",
    "        # f = open(os.path.join(directory, filename))\n",
    "        with open(os.path.join(directory, filename)) as f:\n",
    "            if filename[0]==\".\": #ignore hidden files\n",
    "                continue\n",
    "            splt = filename.split(\"_\")\n",
    "            data.append([session, 1945+session, splt[0], f.read()])\n",
    "\n",
    "df_speech = pd.DataFrame(data, columns=['Session','Year','ISO-alpha3 Code','Speech'])"
   ]
  },
  {
   "cell_type": "code",
   "execution_count": 3,
   "metadata": {},
   "outputs": [],
   "source": [
    "df_codes = pd.read_csv('UNSD — Methodology.csv', sep=\";\")"
   ]
  },
  {
   "cell_type": "code",
   "execution_count": 4,
   "metadata": {},
   "outputs": [],
   "source": [
    "df_un_merged =  pd.merge(df_codes, df_speech, how=\"right\", on=\"ISO-alpha3 Code\")[[\"Country or Area\", \"Region Name\",\"Sub-region Name\", \"ISO-alpha3 Code\",\"Least Developed Countries (LDC)\", \"Session\", \"Year\", \"Speech\"]]\n",
    "df_un_merged = df_un_merged.set_index(['Year', 'ISO-alpha3 Code'])"
   ]
  },
  {
   "cell_type": "code",
   "execution_count": 5,
   "metadata": {},
   "outputs": [
    {
     "name": "stderr",
     "output_type": "stream",
     "text": [
      "<ipython-input-5-b177c89aa097>:2: DtypeWarning: Columns (4,6,31,33,61,62,63,76,79,90,92,94,96,114,115,121) have mixed types. Specify dtype option on import or set low_memory=False.\n",
      "  terrorisme = pd.read_csv('globalterrorismdb_0718dist.csv', encoding='ISO-8859-1')\n"
     ]
    }
   ],
   "source": [
    "# Importing terrorisme dataset\n",
    "terrorisme = pd.read_csv('globalterrorismdb_0718dist.csv', encoding='ISO-8859-1')\n",
    "\n",
    "terrorisme.rename(columns={'iyear':'Year','imonth':'Month','iday':'Day','country_txt':'Country','provstate':'state',\n",
    "                       'region_txt':'Region','attacktype1_txt':'AttackType','target1':'Target','nkill':'Killed',\n",
    "                       'nwound':'Wounded','summary':'Summary','gname':'Group','targtype1_txt':'Target_type',\n",
    "                       'weaptype1_txt':'Weapon_type','motive':'Motive'},inplace=True)\n",
    "\n",
    "terrorisme = terrorisme[['Year','Month','Day','Country','state','Region','city','latitude','longitude','AttackType','Killed',\n",
    "               'Wounded','Target','Summary','Group','Target_type','Weapon_type','Motive', 'success', 'eventid']]"
   ]
  },
  {
   "cell_type": "code",
   "execution_count": 6,
   "metadata": {},
   "outputs": [
    {
     "data": {
      "text/plain": [
       "205"
      ]
     },
     "execution_count": 6,
     "metadata": {},
     "output_type": "execute_result"
    }
   ],
   "source": [
    "len(terrorisme[\"Country\"].unique())"
   ]
  },
  {
   "cell_type": "code",
   "execution_count": 7,
   "metadata": {},
   "outputs": [
    {
     "data": {
      "text/plain": [
       "20"
      ]
     },
     "execution_count": 7,
     "metadata": {},
     "output_type": "execute_result"
    }
   ],
   "source": [
    "len(terrorisme.columns)"
   ]
  },
  {
   "cell_type": "code",
   "execution_count": 8,
   "metadata": {},
   "outputs": [],
   "source": [
    "# Importing happiness dataset\n",
    "happinessdataframe = pd.read_excel('DataForTable2.1WHR2023.xls', index_col=[0,1]) \n",
    "happinessdataframe2022 = happinessdataframe.loc(axis=0)[:,2022]\n",
    "# happinessdataframe2022.head()"
   ]
  },
  {
   "cell_type": "markdown",
   "metadata": {},
   "source": [
    "### Pre-processing the data"
   ]
  },
  {
   "cell_type": "code",
   "execution_count": 9,
   "metadata": {},
   "outputs": [
    {
     "data": {
      "text/plain": [
       "2020"
      ]
     },
     "execution_count": 9,
     "metadata": {},
     "output_type": "execute_result"
    }
   ],
   "source": [
    "df_speech[\"Year\"].max()"
   ]
  },
  {
   "cell_type": "code",
   "execution_count": 10,
   "metadata": {},
   "outputs": [
    {
     "data": {
      "text/plain": [
       "200"
      ]
     },
     "execution_count": 10,
     "metadata": {},
     "output_type": "execute_result"
    }
   ],
   "source": [
    "len(df_speech[\"ISO-alpha3 Code\"].unique())"
   ]
  },
  {
   "cell_type": "code",
   "execution_count": 11,
   "metadata": {},
   "outputs": [],
   "source": [
    "# Function to remove stopwords\n",
    "def stopword_removal(words):\n",
    "    stopwords = nltk.corpus.stopwords.words('english')\n",
    "    no_stopwords = []\n",
    "    for word in words: \n",
    "        if (word not in stopwords) and word.isalpha() and word != 'the':\n",
    "            no_stopwords.append(word.lower())\n",
    "    return no_stopwords"
   ]
  },
  {
   "cell_type": "code",
   "execution_count": 12,
   "metadata": {},
   "outputs": [],
   "source": [
    "# Function to remove stopwords and tokenize speeches\n",
    "def tokenize_removesw(text):\n",
    "    words = word_tokenize(text)\n",
    "    words = stopword_removal(words)\n",
    "    return words\n",
    "\n",
    "speeches_new = df_un_merged[\"Speech\"].apply(tokenize_removesw)"
   ]
  },
  {
   "cell_type": "code",
   "execution_count": 13,
   "metadata": {},
   "outputs": [
    {
     "data": {
      "text/plain": [
       "Year  ISO-alpha3 Code\n",
       "1970  AUT                [may, i, begin, expressing, ambassador, hambro...\n",
       "      MEX                [president, i, take, great, pleasure, followin...\n",
       "      COG                [i, begin, intervention, without, referring, s...\n",
       "      DZA                [the, delegation, algeria, pleased, see, sessi...\n",
       "      LKA                [president, delegation, ceylon, i, personally,...\n",
       "                                               ...                        \n",
       "2020  HRV                [mr, president, excellencies, all, protocol, o...\n",
       "      GAB                [president, majesties, ladies, gentlemen, head...\n",
       "      MCO                [president, general, assembly, ladies, gentlem...\n",
       "      AND                [president, secretary, general, your, excellen...\n",
       "      BHR                [in, name, allah, gracious, merciful, peace, m...\n",
       "Name: Speech, Length: 8481, dtype: object"
      ]
     },
     "execution_count": 13,
     "metadata": {},
     "output_type": "execute_result"
    }
   ],
   "source": [
    "speeches_new"
   ]
  },
  {
   "cell_type": "code",
   "execution_count": 14,
   "metadata": {},
   "outputs": [],
   "source": [
    "# Calculating the count of keywords in each speech\n",
    "def counter_instances(speech):\n",
    "    keywords = [\"security\",\n",
    "    \"safety\",\n",
    "    \"protection\",\n",
    "    \"defense\",\n",
    "    \"surveillance\",\n",
    "    \"law enforcement\",\n",
    "    \"public safety\",\n",
    "    \"national security\",\n",
    "    \"border security\",\n",
    "    \"cybersecurity\",\n",
    "    \"intelligence\",\n",
    "    \"emergency response\",\n",
    "    \"threat assessment\",\n",
    "    \"risk mitigation\",\n",
    "    \"resilience\",\n",
    "    \"preparedness\",\n",
    "    \"contingency planning\",\n",
    "    \"homeland security\",\n",
    "    \"safety measures\",\n",
    "    \"security protocols\",\n",
    "    \"terrorism\",\n",
    "    \"terrorist\",\n",
    "    \"counterterrorism\",\n",
    "    \"extremism\",\n",
    "    \"radicalization\",\n",
    "    \"jihadism\",\n",
    "    \"terrorist organization\",\n",
    "    \"suicide bombing\",\n",
    "    \"terror threat\",\n",
    "    \"insurgency\",\n",
    "    \"terror plot\",\n",
    "    \"counterterrorism measures\",\n",
    "    \"terror financing\",\n",
    "    \"terrorist attacks\",\n",
    "    \"radical ideology\",\n",
    "    \"violent extremism\",\n",
    "    \"terrorist recruitment\",\n",
    "    \"terrorist cells\",\n",
    "    \"counterterrorism strategy\",\n",
    "    \"counterterrorist operations\"\n",
    "]\n",
    "    instances = 0\n",
    "    splitted = speech.split(\" \")\n",
    "    for word in splitted: \n",
    "        if word in keywords:\n",
    "            instances += 1\n",
    "    \n",
    "    return instances"
   ]
  },
  {
   "cell_type": "code",
   "execution_count": 15,
   "metadata": {},
   "outputs": [],
   "source": [
    "# Applying the function to the df\n",
    "df_un_merged['Keyword Counter'] = df_un_merged['Speech'].apply(counter_instances)\n",
    "# df_un_merged.head()"
   ]
  },
  {
   "cell_type": "markdown",
   "metadata": {},
   "source": [
    "### Testing not per year, only per country"
   ]
  },
  {
   "cell_type": "code",
   "execution_count": 16,
   "metadata": {},
   "outputs": [
    {
     "data": {
      "text/html": [
       "<div>\n",
       "<style scoped>\n",
       "    .dataframe tbody tr th:only-of-type {\n",
       "        vertical-align: middle;\n",
       "    }\n",
       "\n",
       "    .dataframe tbody tr th {\n",
       "        vertical-align: top;\n",
       "    }\n",
       "\n",
       "    .dataframe thead th {\n",
       "        text-align: right;\n",
       "    }\n",
       "</style>\n",
       "<table border=\"1\" class=\"dataframe\">\n",
       "  <thead>\n",
       "    <tr style=\"text-align: right;\">\n",
       "      <th></th>\n",
       "      <th>Keyword Counter</th>\n",
       "    </tr>\n",
       "    <tr>\n",
       "      <th>Country or Area</th>\n",
       "      <th></th>\n",
       "    </tr>\n",
       "  </thead>\n",
       "  <tbody>\n",
       "    <tr>\n",
       "      <th>Afghanistan</th>\n",
       "      <td>362</td>\n",
       "    </tr>\n",
       "    <tr>\n",
       "      <th>Albania</th>\n",
       "      <td>353</td>\n",
       "    </tr>\n",
       "    <tr>\n",
       "      <th>Algeria</th>\n",
       "      <td>284</td>\n",
       "    </tr>\n",
       "    <tr>\n",
       "      <th>Andorra</th>\n",
       "      <td>65</td>\n",
       "    </tr>\n",
       "    <tr>\n",
       "      <th>Angola</th>\n",
       "      <td>134</td>\n",
       "    </tr>\n",
       "    <tr>\n",
       "      <th>...</th>\n",
       "      <td>...</td>\n",
       "    </tr>\n",
       "    <tr>\n",
       "      <th>Venezuela (Bolivarian Republic of)</th>\n",
       "      <td>169</td>\n",
       "    </tr>\n",
       "    <tr>\n",
       "      <th>Viet Nam</th>\n",
       "      <td>189</td>\n",
       "    </tr>\n",
       "    <tr>\n",
       "      <th>Yemen</th>\n",
       "      <td>335</td>\n",
       "    </tr>\n",
       "    <tr>\n",
       "      <th>Zambia</th>\n",
       "      <td>129</td>\n",
       "    </tr>\n",
       "    <tr>\n",
       "      <th>Zimbabwe</th>\n",
       "      <td>98</td>\n",
       "    </tr>\n",
       "  </tbody>\n",
       "</table>\n",
       "<p>195 rows × 1 columns</p>\n",
       "</div>"
      ],
      "text/plain": [
       "                                    Keyword Counter\n",
       "Country or Area                                    \n",
       "Afghanistan                                     362\n",
       "Albania                                         353\n",
       "Algeria                                         284\n",
       "Andorra                                          65\n",
       "Angola                                          134\n",
       "...                                             ...\n",
       "Venezuela (Bolivarian Republic of)              169\n",
       "Viet Nam                                        189\n",
       "Yemen                                           335\n",
       "Zambia                                          129\n",
       "Zimbabwe                                         98\n",
       "\n",
       "[195 rows x 1 columns]"
      ]
     },
     "execution_count": 16,
     "metadata": {},
     "output_type": "execute_result"
    }
   ],
   "source": [
    "df_country_keywords = df_un_merged.groupby('Country or Area').sum('Keyword Counter')\n",
    "df_country_keywords = df_country_keywords[['Keyword Counter']]\n",
    "df_country_keywords"
   ]
  },
  {
   "cell_type": "code",
   "execution_count": 17,
   "metadata": {},
   "outputs": [
    {
     "data": {
      "text/html": [
       "<div>\n",
       "<style scoped>\n",
       "    .dataframe tbody tr th:only-of-type {\n",
       "        vertical-align: middle;\n",
       "    }\n",
       "\n",
       "    .dataframe tbody tr th {\n",
       "        vertical-align: top;\n",
       "    }\n",
       "\n",
       "    .dataframe thead th {\n",
       "        text-align: right;\n",
       "    }\n",
       "</style>\n",
       "<table border=\"1\" class=\"dataframe\">\n",
       "  <thead>\n",
       "    <tr style=\"text-align: right;\">\n",
       "      <th></th>\n",
       "      <th>success</th>\n",
       "      <th>Attacks Count</th>\n",
       "      <th>Success Percentage</th>\n",
       "      <th>Success Percentage 100</th>\n",
       "    </tr>\n",
       "    <tr>\n",
       "      <th>Country</th>\n",
       "      <th></th>\n",
       "      <th></th>\n",
       "      <th></th>\n",
       "      <th></th>\n",
       "    </tr>\n",
       "  </thead>\n",
       "  <tbody>\n",
       "    <tr>\n",
       "      <th>Afghanistan</th>\n",
       "      <td>11141</td>\n",
       "      <td>162078361</td>\n",
       "      <td>0.000069</td>\n",
       "      <td>0.006874</td>\n",
       "    </tr>\n",
       "    <tr>\n",
       "      <th>Albania</th>\n",
       "      <td>64</td>\n",
       "      <td>6400</td>\n",
       "      <td>0.010000</td>\n",
       "      <td>1.000000</td>\n",
       "    </tr>\n",
       "    <tr>\n",
       "      <th>Algeria</th>\n",
       "      <td>2561</td>\n",
       "      <td>7524049</td>\n",
       "      <td>0.000340</td>\n",
       "      <td>0.034038</td>\n",
       "    </tr>\n",
       "    <tr>\n",
       "      <th>Angola</th>\n",
       "      <td>486</td>\n",
       "      <td>249001</td>\n",
       "      <td>0.001952</td>\n",
       "      <td>0.195180</td>\n",
       "    </tr>\n",
       "    <tr>\n",
       "      <th>Argentina</th>\n",
       "      <td>714</td>\n",
       "      <td>664225</td>\n",
       "      <td>0.001075</td>\n",
       "      <td>0.107494</td>\n",
       "    </tr>\n",
       "    <tr>\n",
       "      <th>...</th>\n",
       "      <td>...</td>\n",
       "      <td>...</td>\n",
       "      <td>...</td>\n",
       "      <td>...</td>\n",
       "    </tr>\n",
       "    <tr>\n",
       "      <th>Yemen</th>\n",
       "      <td>2837</td>\n",
       "      <td>11202409</td>\n",
       "      <td>0.000253</td>\n",
       "      <td>0.025325</td>\n",
       "    </tr>\n",
       "    <tr>\n",
       "      <th>Yugoslavia</th>\n",
       "      <td>179</td>\n",
       "      <td>41209</td>\n",
       "      <td>0.004344</td>\n",
       "      <td>0.434371</td>\n",
       "    </tr>\n",
       "    <tr>\n",
       "      <th>Zaire</th>\n",
       "      <td>45</td>\n",
       "      <td>2500</td>\n",
       "      <td>0.018000</td>\n",
       "      <td>1.800000</td>\n",
       "    </tr>\n",
       "    <tr>\n",
       "      <th>Zambia</th>\n",
       "      <td>58</td>\n",
       "      <td>3844</td>\n",
       "      <td>0.015088</td>\n",
       "      <td>1.508845</td>\n",
       "    </tr>\n",
       "    <tr>\n",
       "      <th>Zimbabwe</th>\n",
       "      <td>96</td>\n",
       "      <td>10201</td>\n",
       "      <td>0.009411</td>\n",
       "      <td>0.941084</td>\n",
       "    </tr>\n",
       "  </tbody>\n",
       "</table>\n",
       "<p>195 rows × 4 columns</p>\n",
       "</div>"
      ],
      "text/plain": [
       "             success  Attacks Count  Success Percentage  \\\n",
       "Country                                                   \n",
       "Afghanistan    11141      162078361            0.000069   \n",
       "Albania           64           6400            0.010000   \n",
       "Algeria         2561        7524049            0.000340   \n",
       "Angola           486         249001            0.001952   \n",
       "Argentina        714         664225            0.001075   \n",
       "...              ...            ...                 ...   \n",
       "Yemen           2837       11202409            0.000253   \n",
       "Yugoslavia       179          41209            0.004344   \n",
       "Zaire             45           2500            0.018000   \n",
       "Zambia            58           3844            0.015088   \n",
       "Zimbabwe          96          10201            0.009411   \n",
       "\n",
       "             Success Percentage 100  \n",
       "Country                              \n",
       "Afghanistan                0.006874  \n",
       "Albania                    1.000000  \n",
       "Algeria                    0.034038  \n",
       "Angola                     0.195180  \n",
       "Argentina                  0.107494  \n",
       "...                             ...  \n",
       "Yemen                      0.025325  \n",
       "Yugoslavia                 0.434371  \n",
       "Zaire                      1.800000  \n",
       "Zambia                     1.508845  \n",
       "Zimbabwe                   0.941084  \n",
       "\n",
       "[195 rows x 4 columns]"
      ]
     },
     "execution_count": 17,
     "metadata": {},
     "output_type": "execute_result"
    }
   ],
   "source": [
    "# Group by Year and Country, and count the number of attacks\n",
    "attacks_count_country = terrorisme.groupby('Country').size().reset_index(name='Attacks Count')\n",
    "\n",
    "# Merge this count back into the original dataset\n",
    "terrorisme_country = pd.merge(terrorisme, attacks_count_country, on=['Country'])\n",
    "\n",
    "# Grouping by Year and Country\n",
    "terrorisme_country = terrorisme_country[['Country','success', 'Attacks Count']]\n",
    "terrorisme_country = terrorisme_country.groupby('Country').sum('success')\n",
    "\n",
    "# Removing countries with less than 3 attacks\n",
    "terrorisme_country = terrorisme_country.loc[terrorisme_country['Attacks Count'] > 3]\n",
    "\n",
    "# Calculating the success percentage\n",
    "terrorisme_country['Success Percentage'] = terrorisme_country['success'] / terrorisme_country['Attacks Count']\n",
    "terrorisme_country['Success Percentage 100'] = terrorisme_country['Success Percentage'] * 100\n",
    "\n",
    "terrorisme_country"
   ]
  },
  {
   "cell_type": "markdown",
   "metadata": {},
   "source": [
    "### Plotting the world maps "
   ]
  },
  {
   "cell_type": "code",
   "execution_count": 18,
   "metadata": {},
   "outputs": [],
   "source": [
    "import geopandas as gpd\n",
    "import matplotlib.pyplot as plt\n"
   ]
  },
  {
   "cell_type": "code",
   "execution_count": 19,
   "metadata": {},
   "outputs": [
    {
     "data": {
      "text/html": [
       "<div>\n",
       "<style scoped>\n",
       "    .dataframe tbody tr th:only-of-type {\n",
       "        vertical-align: middle;\n",
       "    }\n",
       "\n",
       "    .dataframe tbody tr th {\n",
       "        vertical-align: top;\n",
       "    }\n",
       "\n",
       "    .dataframe thead th {\n",
       "        text-align: right;\n",
       "    }\n",
       "</style>\n",
       "<table border=\"1\" class=\"dataframe\">\n",
       "  <thead>\n",
       "    <tr style=\"text-align: right;\">\n",
       "      <th></th>\n",
       "      <th>Frequency</th>\n",
       "    </tr>\n",
       "    <tr>\n",
       "      <th>Country or Area</th>\n",
       "      <th></th>\n",
       "    </tr>\n",
       "  </thead>\n",
       "  <tbody>\n",
       "    <tr>\n",
       "      <th>Afghanistan</th>\n",
       "      <td>362</td>\n",
       "    </tr>\n",
       "    <tr>\n",
       "      <th>Albania</th>\n",
       "      <td>353</td>\n",
       "    </tr>\n",
       "    <tr>\n",
       "      <th>Algeria</th>\n",
       "      <td>284</td>\n",
       "    </tr>\n",
       "    <tr>\n",
       "      <th>Andorra</th>\n",
       "      <td>65</td>\n",
       "    </tr>\n",
       "    <tr>\n",
       "      <th>Angola</th>\n",
       "      <td>134</td>\n",
       "    </tr>\n",
       "  </tbody>\n",
       "</table>\n",
       "</div>"
      ],
      "text/plain": [
       "                 Frequency\n",
       "Country or Area           \n",
       "Afghanistan            362\n",
       "Albania                353\n",
       "Algeria                284\n",
       "Andorra                 65\n",
       "Angola                 134"
      ]
     },
     "execution_count": 19,
     "metadata": {},
     "output_type": "execute_result"
    }
   ],
   "source": [
    "world = gpd.read_file(\"countries_worldmap/ne_110m_admin_0_countries.shp\")\n",
    "df_countries_freq = df_country_keywords.copy()\n",
    "df_countries_freq = df_countries_freq.rename(columns={\"Keyword Counter\":\"Frequency\"})\n",
    "df_countries_freq.head()\n"
   ]
  },
  {
   "cell_type": "code",
   "execution_count": 20,
   "metadata": {},
   "outputs": [
    {
     "data": {
      "text/html": [
       "<div>\n",
       "<style scoped>\n",
       "    .dataframe tbody tr th:only-of-type {\n",
       "        vertical-align: middle;\n",
       "    }\n",
       "\n",
       "    .dataframe tbody tr th {\n",
       "        vertical-align: top;\n",
       "    }\n",
       "\n",
       "    .dataframe thead th {\n",
       "        text-align: right;\n",
       "    }\n",
       "</style>\n",
       "<table border=\"1\" class=\"dataframe\">\n",
       "  <thead>\n",
       "    <tr style=\"text-align: right;\">\n",
       "      <th></th>\n",
       "      <th>success</th>\n",
       "      <th>Attacks Count</th>\n",
       "      <th>Success Percentage</th>\n",
       "      <th>percentage</th>\n",
       "    </tr>\n",
       "    <tr>\n",
       "      <th>Country</th>\n",
       "      <th></th>\n",
       "      <th></th>\n",
       "      <th></th>\n",
       "      <th></th>\n",
       "    </tr>\n",
       "  </thead>\n",
       "  <tbody>\n",
       "    <tr>\n",
       "      <th>Afghanistan</th>\n",
       "      <td>11141</td>\n",
       "      <td>162078361</td>\n",
       "      <td>0.000069</td>\n",
       "      <td>0.006874</td>\n",
       "    </tr>\n",
       "    <tr>\n",
       "      <th>Albania</th>\n",
       "      <td>64</td>\n",
       "      <td>6400</td>\n",
       "      <td>0.010000</td>\n",
       "      <td>1.000000</td>\n",
       "    </tr>\n",
       "    <tr>\n",
       "      <th>Algeria</th>\n",
       "      <td>2561</td>\n",
       "      <td>7524049</td>\n",
       "      <td>0.000340</td>\n",
       "      <td>0.034038</td>\n",
       "    </tr>\n",
       "    <tr>\n",
       "      <th>Angola</th>\n",
       "      <td>486</td>\n",
       "      <td>249001</td>\n",
       "      <td>0.001952</td>\n",
       "      <td>0.195180</td>\n",
       "    </tr>\n",
       "    <tr>\n",
       "      <th>Argentina</th>\n",
       "      <td>714</td>\n",
       "      <td>664225</td>\n",
       "      <td>0.001075</td>\n",
       "      <td>0.107494</td>\n",
       "    </tr>\n",
       "    <tr>\n",
       "      <th>...</th>\n",
       "      <td>...</td>\n",
       "      <td>...</td>\n",
       "      <td>...</td>\n",
       "      <td>...</td>\n",
       "    </tr>\n",
       "    <tr>\n",
       "      <th>Yemen</th>\n",
       "      <td>2837</td>\n",
       "      <td>11202409</td>\n",
       "      <td>0.000253</td>\n",
       "      <td>0.025325</td>\n",
       "    </tr>\n",
       "    <tr>\n",
       "      <th>Yugoslavia</th>\n",
       "      <td>179</td>\n",
       "      <td>41209</td>\n",
       "      <td>0.004344</td>\n",
       "      <td>0.434371</td>\n",
       "    </tr>\n",
       "    <tr>\n",
       "      <th>Zaire</th>\n",
       "      <td>45</td>\n",
       "      <td>2500</td>\n",
       "      <td>0.018000</td>\n",
       "      <td>1.800000</td>\n",
       "    </tr>\n",
       "    <tr>\n",
       "      <th>Zambia</th>\n",
       "      <td>58</td>\n",
       "      <td>3844</td>\n",
       "      <td>0.015088</td>\n",
       "      <td>1.508845</td>\n",
       "    </tr>\n",
       "    <tr>\n",
       "      <th>Zimbabwe</th>\n",
       "      <td>96</td>\n",
       "      <td>10201</td>\n",
       "      <td>0.009411</td>\n",
       "      <td>0.941084</td>\n",
       "    </tr>\n",
       "  </tbody>\n",
       "</table>\n",
       "<p>195 rows × 4 columns</p>\n",
       "</div>"
      ],
      "text/plain": [
       "             success  Attacks Count  Success Percentage  percentage\n",
       "Country                                                            \n",
       "Afghanistan    11141      162078361            0.000069    0.006874\n",
       "Albania           64           6400            0.010000    1.000000\n",
       "Algeria         2561        7524049            0.000340    0.034038\n",
       "Angola           486         249001            0.001952    0.195180\n",
       "Argentina        714         664225            0.001075    0.107494\n",
       "...              ...            ...                 ...         ...\n",
       "Yemen           2837       11202409            0.000253    0.025325\n",
       "Yugoslavia       179          41209            0.004344    0.434371\n",
       "Zaire             45           2500            0.018000    1.800000\n",
       "Zambia            58           3844            0.015088    1.508845\n",
       "Zimbabwe          96          10201            0.009411    0.941084\n",
       "\n",
       "[195 rows x 4 columns]"
      ]
     },
     "execution_count": 20,
     "metadata": {},
     "output_type": "execute_result"
    }
   ],
   "source": [
    "df_countries_success = terrorisme_country.copy()\n",
    "df_countries_success = df_countries_success.rename(columns={\"Success Percentage 100\":\"percentage\"})\n",
    "df_countries_success"
   ]
  },
  {
   "cell_type": "code",
   "execution_count": 21,
   "metadata": {},
   "outputs": [
    {
     "data": {
      "text/plain": [
       "<matplotlib.collections.PathCollection at 0x7f8c14e41b50>"
      ]
     },
     "execution_count": 21,
     "metadata": {},
     "output_type": "execute_result"
    },
    {
     "data": {
      "image/png": "[encoded data removed]",
      "text/plain": [
       "<Figure size 432x288 with 1 Axes>"
      ]
     },
     "metadata": {
      "needs_background": "light"
     },
     "output_type": "display_data"
    }
   ],
   "source": [
    "plt.scatter(df_countries_success.index, df_countries_success[\"Attacks Count\"])"
   ]
  },
  {
   "cell_type": "code",
   "execution_count": 22,
   "metadata": {},
   "outputs": [
    {
     "data": {
      "text/html": [
       "<div>\n",
       "<style scoped>\n",
       "    .dataframe tbody tr th:only-of-type {\n",
       "        vertical-align: middle;\n",
       "    }\n",
       "\n",
       "    .dataframe tbody tr th {\n",
       "        vertical-align: top;\n",
       "    }\n",
       "\n",
       "    .dataframe thead th {\n",
       "        text-align: right;\n",
       "    }\n",
       "</style>\n",
       "<table border=\"1\" class=\"dataframe\">\n",
       "  <thead>\n",
       "    <tr style=\"text-align: right;\">\n",
       "      <th></th>\n",
       "      <th>success</th>\n",
       "      <th>Attacks Count</th>\n",
       "      <th>Success Percentage</th>\n",
       "      <th>percentage</th>\n",
       "    </tr>\n",
       "  </thead>\n",
       "  <tbody>\n",
       "    <tr>\n",
       "      <th>count</th>\n",
       "      <td>195.000000</td>\n",
       "      <td>1.950000e+02</td>\n",
       "      <td>195.000000</td>\n",
       "      <td>195.000000</td>\n",
       "    </tr>\n",
       "    <tr>\n",
       "      <th>mean</th>\n",
       "      <td>828.835897</td>\n",
       "      <td>7.802008e+06</td>\n",
       "      <td>0.049096</td>\n",
       "      <td>4.909567</td>\n",
       "    </tr>\n",
       "    <tr>\n",
       "      <th>std</th>\n",
       "      <td>2339.589508</td>\n",
       "      <td>4.857244e+07</td>\n",
       "      <td>0.095433</td>\n",
       "      <td>9.543290</td>\n",
       "    </tr>\n",
       "    <tr>\n",
       "      <th>min</th>\n",
       "      <td>0.000000</td>\n",
       "      <td>4.000000e+00</td>\n",
       "      <td>0.000000</td>\n",
       "      <td>0.000000</td>\n",
       "    </tr>\n",
       "    <tr>\n",
       "      <th>25%</th>\n",
       "      <td>15.500000</td>\n",
       "      <td>3.425000e+02</td>\n",
       "      <td>0.001726</td>\n",
       "      <td>0.172595</td>\n",
       "    </tr>\n",
       "    <tr>\n",
       "      <th>50%</th>\n",
       "      <td>67.000000</td>\n",
       "      <td>6.400000e+03</td>\n",
       "      <td>0.010506</td>\n",
       "      <td>1.050598</td>\n",
       "    </tr>\n",
       "    <tr>\n",
       "      <th>75%</th>\n",
       "      <td>354.500000</td>\n",
       "      <td>1.584200e+05</td>\n",
       "      <td>0.043766</td>\n",
       "      <td>4.376560</td>\n",
       "    </tr>\n",
       "    <tr>\n",
       "      <th>max</th>\n",
       "      <td>21861.000000</td>\n",
       "      <td>6.069325e+08</td>\n",
       "      <td>0.500000</td>\n",
       "      <td>50.000000</td>\n",
       "    </tr>\n",
       "  </tbody>\n",
       "</table>\n",
       "</div>"
      ],
      "text/plain": [
       "            success  Attacks Count  Success Percentage  percentage\n",
       "count    195.000000   1.950000e+02          195.000000  195.000000\n",
       "mean     828.835897   7.802008e+06            0.049096    4.909567\n",
       "std     2339.589508   4.857244e+07            0.095433    9.543290\n",
       "min        0.000000   4.000000e+00            0.000000    0.000000\n",
       "25%       15.500000   3.425000e+02            0.001726    0.172595\n",
       "50%       67.000000   6.400000e+03            0.010506    1.050598\n",
       "75%      354.500000   1.584200e+05            0.043766    4.376560\n",
       "max    21861.000000   6.069325e+08            0.500000   50.000000"
      ]
     },
     "execution_count": 22,
     "metadata": {},
     "output_type": "execute_result"
    }
   ],
   "source": [
    "df_countries_success.describe()"
   ]
  },
  {
   "cell_type": "code",
   "execution_count": 27,
   "metadata": {},
   "outputs": [
    {
     "data": {
      "text/html": [
       "<div>\n",
       "<style scoped>\n",
       "    .dataframe tbody tr th:only-of-type {\n",
       "        vertical-align: middle;\n",
       "    }\n",
       "\n",
       "    .dataframe tbody tr th {\n",
       "        vertical-align: top;\n",
       "    }\n",
       "\n",
       "    .dataframe thead th {\n",
       "        text-align: right;\n",
       "    }\n",
       "</style>\n",
       "<table border=\"1\" class=\"dataframe\">\n",
       "  <thead>\n",
       "    <tr style=\"text-align: right;\">\n",
       "      <th></th>\n",
       "      <th>success</th>\n",
       "      <th>Attacks Count</th>\n",
       "      <th>Success Percentage</th>\n",
       "      <th>percentage</th>\n",
       "    </tr>\n",
       "    <tr>\n",
       "      <th>Country</th>\n",
       "      <th></th>\n",
       "      <th></th>\n",
       "      <th></th>\n",
       "      <th></th>\n",
       "    </tr>\n",
       "  </thead>\n",
       "  <tbody>\n",
       "    <tr>\n",
       "      <th>Afghanistan</th>\n",
       "      <td>11141</td>\n",
       "      <td>162078361</td>\n",
       "      <td>0.000069</td>\n",
       "      <td>0.006874</td>\n",
       "    </tr>\n",
       "    <tr>\n",
       "      <th>Albania</th>\n",
       "      <td>64</td>\n",
       "      <td>6400</td>\n",
       "      <td>0.010000</td>\n",
       "      <td>1.000000</td>\n",
       "    </tr>\n",
       "    <tr>\n",
       "      <th>Algeria</th>\n",
       "      <td>2561</td>\n",
       "      <td>7524049</td>\n",
       "      <td>0.000340</td>\n",
       "      <td>0.034038</td>\n",
       "    </tr>\n",
       "    <tr>\n",
       "      <th>Angola</th>\n",
       "      <td>486</td>\n",
       "      <td>249001</td>\n",
       "      <td>0.001952</td>\n",
       "      <td>0.195180</td>\n",
       "    </tr>\n",
       "    <tr>\n",
       "      <th>Argentina</th>\n",
       "      <td>714</td>\n",
       "      <td>664225</td>\n",
       "      <td>0.001075</td>\n",
       "      <td>0.107494</td>\n",
       "    </tr>\n",
       "  </tbody>\n",
       "</table>\n",
       "</div>"
      ],
      "text/plain": [
       "             success  Attacks Count  Success Percentage  percentage\n",
       "Country                                                            \n",
       "Afghanistan    11141      162078361            0.000069    0.006874\n",
       "Albania           64           6400            0.010000    1.000000\n",
       "Algeria         2561        7524049            0.000340    0.034038\n",
       "Angola           486         249001            0.001952    0.195180\n",
       "Argentina        714         664225            0.001075    0.107494"
      ]
     },
     "execution_count": 27,
     "metadata": {},
     "output_type": "execute_result"
    }
   ],
   "source": [
    "df_countries_success.head()"
   ]
  },
  {
   "cell_type": "code",
   "execution_count": 28,
   "metadata": {},
   "outputs": [
    {
     "data": {
      "text/html": [
       "<div>\n",
       "<style scoped>\n",
       "    .dataframe tbody tr th:only-of-type {\n",
       "        vertical-align: middle;\n",
       "    }\n",
       "\n",
       "    .dataframe tbody tr th {\n",
       "        vertical-align: top;\n",
       "    }\n",
       "\n",
       "    .dataframe thead th {\n",
       "        text-align: right;\n",
       "    }\n",
       "</style>\n",
       "<table border=\"1\" class=\"dataframe\">\n",
       "  <thead>\n",
       "    <tr style=\"text-align: right;\">\n",
       "      <th></th>\n",
       "      <th>featurecla</th>\n",
       "      <th>scalerank</th>\n",
       "      <th>LABELRANK</th>\n",
       "      <th>SOVEREIGNT</th>\n",
       "      <th>SOV_A3</th>\n",
       "      <th>ADM0_DIF</th>\n",
       "      <th>LEVEL</th>\n",
       "      <th>TYPE</th>\n",
       "      <th>TLC</th>\n",
       "      <th>ADMIN</th>\n",
       "      <th>...</th>\n",
       "      <th>FCLASS_IT</th>\n",
       "      <th>FCLASS_NL</th>\n",
       "      <th>FCLASS_SE</th>\n",
       "      <th>FCLASS_BD</th>\n",
       "      <th>FCLASS_UA</th>\n",
       "      <th>geometry</th>\n",
       "      <th>success</th>\n",
       "      <th>Attacks Count</th>\n",
       "      <th>Success Percentage</th>\n",
       "      <th>percentage</th>\n",
       "    </tr>\n",
       "  </thead>\n",
       "  <tbody>\n",
       "    <tr>\n",
       "      <th>0</th>\n",
       "      <td>Admin-0 country</td>\n",
       "      <td>1</td>\n",
       "      <td>6</td>\n",
       "      <td>Fiji</td>\n",
       "      <td>FJI</td>\n",
       "      <td>0</td>\n",
       "      <td>2</td>\n",
       "      <td>Sovereign country</td>\n",
       "      <td>1</td>\n",
       "      <td>Fiji</td>\n",
       "      <td>...</td>\n",
       "      <td>NaN</td>\n",
       "      <td>NaN</td>\n",
       "      <td>NaN</td>\n",
       "      <td>NaN</td>\n",
       "      <td>NaN</td>\n",
       "      <td>MULTIPOLYGON (((180.00000 -16.06713, 180.00000...</td>\n",
       "      <td>16.0</td>\n",
       "      <td>289.0</td>\n",
       "      <td>0.055363</td>\n",
       "      <td>5.536332</td>\n",
       "    </tr>\n",
       "    <tr>\n",
       "      <th>1</th>\n",
       "      <td>Admin-0 country</td>\n",
       "      <td>1</td>\n",
       "      <td>3</td>\n",
       "      <td>United Republic of Tanzania</td>\n",
       "      <td>TZA</td>\n",
       "      <td>0</td>\n",
       "      <td>2</td>\n",
       "      <td>Sovereign country</td>\n",
       "      <td>1</td>\n",
       "      <td>United Republic of Tanzania</td>\n",
       "      <td>...</td>\n",
       "      <td>NaN</td>\n",
       "      <td>NaN</td>\n",
       "      <td>NaN</td>\n",
       "      <td>NaN</td>\n",
       "      <td>NaN</td>\n",
       "      <td>POLYGON ((33.90371 -0.95000, 34.07262 -1.05982...</td>\n",
       "      <td>NaN</td>\n",
       "      <td>NaN</td>\n",
       "      <td>NaN</td>\n",
       "      <td>NaN</td>\n",
       "    </tr>\n",
       "    <tr>\n",
       "      <th>2</th>\n",
       "      <td>Admin-0 country</td>\n",
       "      <td>1</td>\n",
       "      <td>7</td>\n",
       "      <td>Western Sahara</td>\n",
       "      <td>SAH</td>\n",
       "      <td>0</td>\n",
       "      <td>2</td>\n",
       "      <td>Indeterminate</td>\n",
       "      <td>1</td>\n",
       "      <td>Western Sahara</td>\n",
       "      <td>...</td>\n",
       "      <td>NaN</td>\n",
       "      <td>Unrecognized</td>\n",
       "      <td>NaN</td>\n",
       "      <td>NaN</td>\n",
       "      <td>NaN</td>\n",
       "      <td>POLYGON ((-8.66559 27.65643, -8.66512 27.58948...</td>\n",
       "      <td>5.0</td>\n",
       "      <td>25.0</td>\n",
       "      <td>0.200000</td>\n",
       "      <td>20.000000</td>\n",
       "    </tr>\n",
       "    <tr>\n",
       "      <th>3</th>\n",
       "      <td>Admin-0 country</td>\n",
       "      <td>1</td>\n",
       "      <td>2</td>\n",
       "      <td>Canada</td>\n",
       "      <td>CAN</td>\n",
       "      <td>0</td>\n",
       "      <td>2</td>\n",
       "      <td>Sovereign country</td>\n",
       "      <td>1</td>\n",
       "      <td>Canada</td>\n",
       "      <td>...</td>\n",
       "      <td>NaN</td>\n",
       "      <td>NaN</td>\n",
       "      <td>NaN</td>\n",
       "      <td>NaN</td>\n",
       "      <td>NaN</td>\n",
       "      <td>MULTIPOLYGON (((-122.84000 49.00000, -122.9742...</td>\n",
       "      <td>75.0</td>\n",
       "      <td>9216.0</td>\n",
       "      <td>0.008138</td>\n",
       "      <td>0.813802</td>\n",
       "    </tr>\n",
       "    <tr>\n",
       "      <th>4</th>\n",
       "      <td>Admin-0 country</td>\n",
       "      <td>1</td>\n",
       "      <td>2</td>\n",
       "      <td>United States of America</td>\n",
       "      <td>US1</td>\n",
       "      <td>1</td>\n",
       "      <td>2</td>\n",
       "      <td>Country</td>\n",
       "      <td>1</td>\n",
       "      <td>United States of America</td>\n",
       "      <td>...</td>\n",
       "      <td>NaN</td>\n",
       "      <td>NaN</td>\n",
       "      <td>NaN</td>\n",
       "      <td>NaN</td>\n",
       "      <td>NaN</td>\n",
       "      <td>MULTIPOLYGON (((-122.84000 49.00000, -120.0000...</td>\n",
       "      <td>NaN</td>\n",
       "      <td>NaN</td>\n",
       "      <td>NaN</td>\n",
       "      <td>NaN</td>\n",
       "    </tr>\n",
       "  </tbody>\n",
       "</table>\n",
       "<p>5 rows × 173 columns</p>\n",
       "</div>"
      ],
      "text/plain": [
       "        featurecla  scalerank  LABELRANK                   SOVEREIGNT SOV_A3  \\\n",
       "0  Admin-0 country          1          6                         Fiji    FJI   \n",
       "1  Admin-0 country          1          3  United Republic of Tanzania    TZA   \n",
       "2  Admin-0 country          1          7               Western Sahara    SAH   \n",
       "3  Admin-0 country          1          2                       Canada    CAN   \n",
       "4  Admin-0 country          1          2     United States of America    US1   \n",
       "\n",
       "   ADM0_DIF  LEVEL               TYPE TLC                        ADMIN  ...  \\\n",
       "0         0      2  Sovereign country   1                         Fiji  ...   \n",
       "1         0      2  Sovereign country   1  United Republic of Tanzania  ...   \n",
       "2         0      2      Indeterminate   1               Western Sahara  ...   \n",
       "3         0      2  Sovereign country   1                       Canada  ...   \n",
       "4         1      2            Country   1     United States of America  ...   \n",
       "\n",
       "  FCLASS_IT     FCLASS_NL FCLASS_SE FCLASS_BD  FCLASS_UA  \\\n",
       "0       NaN           NaN       NaN       NaN        NaN   \n",
       "1       NaN           NaN       NaN       NaN        NaN   \n",
       "2       NaN  Unrecognized       NaN       NaN        NaN   \n",
       "3       NaN           NaN       NaN       NaN        NaN   \n",
       "4       NaN           NaN       NaN       NaN        NaN   \n",
       "\n",
       "                                            geometry success  Attacks Count  \\\n",
       "0  MULTIPOLYGON (((180.00000 -16.06713, 180.00000...    16.0          289.0   \n",
       "1  POLYGON ((33.90371 -0.95000, 34.07262 -1.05982...     NaN            NaN   \n",
       "2  POLYGON ((-8.66559 27.65643, -8.66512 27.58948...     5.0           25.0   \n",
       "3  MULTIPOLYGON (((-122.84000 49.00000, -122.9742...    75.0         9216.0   \n",
       "4  MULTIPOLYGON (((-122.84000 49.00000, -120.0000...     NaN            NaN   \n",
       "\n",
       "  Success Percentage percentage  \n",
       "0           0.055363   5.536332  \n",
       "1                NaN        NaN  \n",
       "2           0.200000  20.000000  \n",
       "3           0.008138   0.813802  \n",
       "4                NaN        NaN  \n",
       "\n",
       "[5 rows x 173 columns]"
      ]
     },
     "execution_count": 28,
     "metadata": {},
     "output_type": "execute_result"
    }
   ],
   "source": [
    "merged_data = world.merge(df_countries_freq, left_on=\"SOVEREIGNT\", right_on=\"Country or Area\", how=\"left\")\n",
    "merged_data2 = world.merge(df_countries_success, left_on=\"SOVEREIGNT\", right_on=\"Country\", how=\"left\")\n",
    "merged_data2.head()\n"
   ]
  },
  {
   "cell_type": "code",
   "execution_count": 29,
   "metadata": {},
   "outputs": [
    {
     "data": {
      "image/png": "[encoded data removed]",
      "text/plain": [
       "<Figure size 1440x720 with 2 Axes>"
      ]
     },
     "metadata": {
      "needs_background": "light"
     },
     "output_type": "display_data"
    }
   ],
   "source": [
    "fig, ax = plt.subplots(1, 1, figsize=(20, 10))\n",
    "merged_data.plot(column=\"Frequency\", cmap=\"inferno\", linewidth=0.8, ax=ax, edgecolor=\"0.8\", legend=True)\n",
    "\n",
    "# Add title and adjust plot settings as needed\n",
    "plt.title(\"Frequency of used Key Words per country\", fontsize=24, fontfamily=\"serif\")\n",
    "ax.axis(\"off\")  # Turn off axis\n",
    "plt.show()\n"
   ]
  },
  {
   "cell_type": "markdown",
   "metadata": {},
   "source": [
    "### Calculating the correlation between the Success Percentage and the Keyword Counter over only Countries (not year)"
   ]
  },
  {
   "cell_type": "code",
   "execution_count": 30,
   "metadata": {},
   "outputs": [
    {
     "name": "stdout",
     "output_type": "stream",
     "text": [
      "Correlation Coefficient: -0.34\n"
     ]
    }
   ],
   "source": [
    "# Prepare the DataFrames\n",
    "df_country_keywords.rename_axis(index={'Country or Area': 'Country'}, inplace=True)\n",
    "\n",
    "# Merge the DataFrames\n",
    "merged_data = pd.merge(terrorisme_country, df_country_keywords, \n",
    "                       left_index=True, right_index=True, how='inner')\n",
    "\n",
    "# Calculate Correlation\n",
    "correlation_matrix_country = merged_data[['Success Percentage', 'Keyword Counter']].corr()\n",
    "\n",
    "# The correlation coefficient between 'Success Percentage' and 'Keyword Counter'\n",
    "correlation_coefficient_country = correlation_matrix_country.loc['Success Percentage', 'Keyword Counter']\n",
    "\n",
    "print(f'Correlation Coefficient: {correlation_coefficient_country:.2f}')"
   ]
  }
 ],
 "metadata": {
  "kernelspec": {
   "display_name": "Python 3.9.10 64-bit",
   "language": "python",
   "name": "python3"
  },
  "language_info": {
   "codemirror_mode": {
    "name": "ipython",
    "version": 3
   },
   "file_extension": ".py",
   "mimetype": "text/x-python",
   "name": "python",
   "nbconvert_exporter": "python",
   "pygments_lexer": "ipython3",
   "version": "3.8.5"
  },
  "vscode": {
   "interpreter": {
    "hash": "b0fa6594d8f4cbf19f97940f81e996739fb7646882a419484c72d19e05852a7e"
   }
  }
 },
 "nbformat": 4,
 "nbformat_minor": 2
}
